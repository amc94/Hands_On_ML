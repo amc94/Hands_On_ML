{
 "cells": [
  {
   "cell_type": "markdown",
   "id": "da76c285",
   "metadata": {},
   "source": [
    "<h1>Exercise 1&2: Building a MINST Classifier with 97%+ accuracy and shift images around </h1>"
   ]
  },
  {
   "cell_type": "code",
   "execution_count": 1,
   "id": "40310daa",
   "metadata": {},
   "outputs": [],
   "source": [
    "#importing stuff\n",
    "import matplotlib as mpl\n",
    "import matplotlib.pyplot as plt\n",
    "import pandas as pd\n",
    "import numpy as np\n",
    "from sklearn.datasets import fetch_openml"
   ]
  },
  {
   "cell_type": "markdown",
   "id": "c6273d25",
   "metadata": {},
   "source": [
    "<h2> Getting the data </h2>"
   ]
  },
  {
   "cell_type": "code",
   "execution_count": 2,
   "id": "4eaae462",
   "metadata": {},
   "outputs": [],
   "source": [
    "mnist = fetch_openml('mnist_784', version=1)\n",
    "X, y = mnist[\"data\"], mnist[\"target\"]"
   ]
  },
  {
   "cell_type": "code",
   "execution_count": 3,
   "id": "2030688c",
   "metadata": {},
   "outputs": [],
   "source": [
    "y = y.astype(np.uint8)"
   ]
  },
  {
   "cell_type": "code",
   "execution_count": 4,
   "id": "41a70303",
   "metadata": {},
   "outputs": [],
   "source": [
    " X_train, X_test, y_train, y_test = X[:60000], X[60000:], y[:60000], y[60000:]"
   ]
  },
  {
   "cell_type": "code",
   "execution_count": 5,
   "id": "c1bce18b",
   "metadata": {},
   "outputs": [],
   "source": [
    "#using code I got from stackoverflow\n",
    "#https://stackoverflow.com/questions/30399534/shift-elements-in-a-numpy-array\n",
    "def shift(digit, n, vertical=False):\n",
    "    digit = digit.copy().values.reshape(28,28)\n",
    "    e = np.empty_like(digit)\n",
    "    if vertical:\n",
    "        if n >= 0:\n",
    "            e[:n, :] = 0.0\n",
    "            e[n:, :] = digit[:-n]\n",
    "        else:\n",
    "            e[n:, :] = 0.0\n",
    "            e[:n, :] = digit[-n:]\n",
    "    else:\n",
    "        if n >= 0:\n",
    "            e[:n] = 0.0\n",
    "            e[n:] = digit[:-n]\n",
    "        else:\n",
    "            e[n:] = 0.0\n",
    "            e[:n] = digit[-n:]\n",
    "    return pd.Series(e.flatten())"
   ]
  },
  {
   "cell_type": "code",
   "execution_count": 6,
   "id": "35dfdfe3",
   "metadata": {},
   "outputs": [],
   "source": [
    "def print_digit(digit):\n",
    "    digit = digit.values.reshape(28,28)\n",
    "    plt.imshow(digit, cmap=\"binary\")\n",
    "    plt.axis(\"off\")\n",
    "    plt.show()"
   ]
  },
  {
   "cell_type": "markdown",
   "id": "606d01eb",
   "metadata": {},
   "source": [
    "<h2> Create the dataset with the shifts </h2>"
   ]
  },
  {
   "cell_type": "code",
   "execution_count": 7,
   "id": "0f28346d",
   "metadata": {},
   "outputs": [],
   "source": [
    "def create_label_set(labels):\n",
    "    new_dims = 5*labels.shape[0]\n",
    "    new_dataset = pd.Series(np.zeros(new_dims))\n",
    "    for i in range(labels.shape[0]):\n",
    "        for j in range(0,5):\n",
    "            new_dataset.iloc[5*i+j] = labels.iloc[i]\n",
    "    \n",
    "    return new_dataset"
   ]
  },
  {
   "cell_type": "code",
   "execution_count": 8,
   "id": "348c0c41",
   "metadata": {},
   "outputs": [],
   "source": [
    "def create_shifted_dataset(dataset):\n",
    "    new_dims = (5*dataset.shape[0], dataset.shape[1])\n",
    "    new_dataset = pd.DataFrame(np.zeros(new_dims))\n",
    "    for i in range(dataset.shape[0]):\n",
    "        new_dataset.iloc[5*i] = dataset.iloc[i]\n",
    "        new_dataset.iloc[5*i+1] = shift(dataset.iloc[i],1,True).values\n",
    "        new_dataset.iloc[5*i+2] = shift(dataset.iloc[i],-1,True).values\n",
    "        new_dataset.iloc[5*i+3] = shift(dataset.iloc[i],1,False).values\n",
    "        new_dataset.iloc[5*i+4] = shift(dataset.iloc[i],-1,False).values\n",
    "    \n",
    "    return new_dataset"
   ]
  },
  {
   "cell_type": "code",
   "execution_count": 9,
   "id": "c3962f1e",
   "metadata": {},
   "outputs": [],
   "source": [
    "shifted_dataset = create_shifted_dataset(X_train)"
   ]
  },
  {
   "cell_type": "code",
   "execution_count": 10,
   "id": "bbd2dbd2",
   "metadata": {},
   "outputs": [],
   "source": [
    "extra_labels = create_label_set(y_train)"
   ]
  },
  {
   "cell_type": "code",
   "execution_count": 11,
   "id": "393bc758",
   "metadata": {},
   "outputs": [
    {
     "name": "stdout",
     "output_type": "stream",
     "text": [
      "<class 'pandas.core.frame.DataFrame'>\n"
     ]
    }
   ],
   "source": [
    "print(type(shifted_dataset))"
   ]
  },
  {
   "cell_type": "markdown",
   "id": "21955d6e",
   "metadata": {},
   "source": [
    "<h1> Training the Model </h1>"
   ]
  },
  {
   "cell_type": "code",
   "execution_count": 12,
   "id": "95de273c",
   "metadata": {},
   "outputs": [
    {
     "data": {
      "text/plain": [
       "KNeighborsClassifier(n_neighbors=6, weights='distance')"
      ]
     },
     "execution_count": 12,
     "metadata": {},
     "output_type": "execute_result"
    }
   ],
   "source": [
    "from sklearn.neighbors import KNeighborsClassifier\n",
    "from sklearn.model_selection import GridSearchCV\n",
    "\n",
    "param_grid = [\n",
    "    {'n_neighbors': [5,10],'weights':['uniform', 'distance']}\n",
    "]\n",
    "\n",
    "knn_clf = KNeighborsClassifier(n_neighbors=6, weights='distance')\n",
    "\n",
    "knn_clf.fit(shifted_dataset, extra_labels)"
   ]
  },
  {
   "cell_type": "markdown",
   "id": "72ad909f",
   "metadata": {},
   "source": [
    "<h1> Testing the Model </h1>"
   ]
  },
  {
   "cell_type": "code",
   "execution_count": null,
   "id": "67bdb427",
   "metadata": {},
   "outputs": [],
   "source": [
    "from sklearn.model_selection import cross_val_score\n",
    "cross_val_score(knn_clf, shifted_dataset, extra_labels, cv=3, scoring=\"accuracy\")"
   ]
  },
  {
   "cell_type": "code",
   "execution_count": null,
   "id": "179b16f7",
   "metadata": {},
   "outputs": [],
   "source": []
  }
 ],
 "metadata": {
  "kernelspec": {
   "display_name": "Python 3 (ipykernel)",
   "language": "python",
   "name": "python3"
  },
  "language_info": {
   "codemirror_mode": {
    "name": "ipython",
    "version": 3
   },
   "file_extension": ".py",
   "mimetype": "text/x-python",
   "name": "python",
   "nbconvert_exporter": "python",
   "pygments_lexer": "ipython3",
   "version": "3.8.10"
  }
 },
 "nbformat": 4,
 "nbformat_minor": 5
}
